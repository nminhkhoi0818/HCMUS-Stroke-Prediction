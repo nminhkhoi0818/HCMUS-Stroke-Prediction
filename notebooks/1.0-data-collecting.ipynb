{
 "cells": [
  {
   "cell_type": "markdown",
   "metadata": {},
   "source": [
    "## What subject is your data about?  "
   ]
  },
  {
   "cell_type": "markdown",
   "metadata": {},
   "source": [
    "The data is about predicting the likelihood of a stroke in patients based on various input parameters such as gender, age, presence of hypertension, heart disease, marital status, work type, residence type, average glucose level, BMI, and smoking status."
   ]
  },
  {
   "cell_type": "markdown",
   "metadata": {},
   "source": [
    "## What is the source of your data?"
   ]
  },
  {
   "cell_type": "markdown",
   "metadata": {},
   "source": [
    "## Do authors of this data allow you to use like this?\n"
   ]
  },
  {
   "cell_type": "markdown",
   "metadata": {},
   "source": [
    "The source of the data is mentioned as \"Confidential Source.\" The dataset is intended for educational purposes, and if used in research, the author requests proper credit to be given."
   ]
  },
  {
   "cell_type": "markdown",
   "metadata": {},
   "source": [
    "## How did authors collect data?"
   ]
  }
 ],
 "metadata": {
  "language_info": {
   "name": "python"
  }
 },
 "nbformat": 4,
 "nbformat_minor": 5
}
