{
 "cells": [
  {
   "cell_type": "markdown",
   "metadata": {},
   "source": [
    "## What subject is your data about?  "
   ]
  },
  {
   "cell_type": "markdown",
   "metadata": {},
   "source": [
    "The data is about predicting the likelihood of a stroke in patients based on various input parameters such as gender, age, presence of hypertension, heart disease, marital status, work type, residence type, average glucose level, BMI, and smoking status."
   ]
  },
  {
   "cell_type": "markdown",
   "metadata": {},
   "source": [
    "## What is the source of your data?"
   ]
  },
  {
   "cell_type": "markdown",
   "id": "939f4784",
   "metadata": {},
   "source": [
    "The author does not provide this information."
   ]
  },
  {
   "cell_type": "markdown",
   "metadata": {},
   "source": [
    "## Do authors of this data allow you to use like this?\n"
   ]
  },
  {
   "cell_type": "markdown",
   "metadata": {},
   "source": [
    "The source of the data is mentioned as \"Confidential Source.\" The dataset is intended for educational purposes, and if used in research, the author requests proper credit to be given."
   ]
  },
  {
   "cell_type": "markdown",
   "metadata": {},
   "source": [
    "## How did authors collect data?"
   ]
  },
  {
   "cell_type": "markdown",
   "id": "786a94fd",
   "metadata": {},
   "source": [
    "The author does not provide this information."
   ]
  }
 ],
 "metadata": {
  "kernelspec": {
   "display_name": "Python 3",
   "language": "python",
   "name": "python3"
  },
  "language_info": {
   "name": "python",
   "version": "3.11.7"
  }
 },
 "nbformat": 4,
 "nbformat_minor": 5
}
