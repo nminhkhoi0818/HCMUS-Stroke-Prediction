{
 "cells": [
  {
   "cell_type": "markdown",
   "metadata": {},
   "source": [
    "## Workflow stages"
   ]
  },
  {
   "cell_type": "markdown",
   "id": "5f9b2a51",
   "metadata": {},
   "source": [
    "### I. Team's Information\n",
    "Class: 21KHDL1\n",
    "\n",
    "Student's ID|Full Name\n",
    "-|-\n",
    "21127081|Nguyễn Minh Khôi\n",
    "21127430|Nguyễn Huy Thành"
   ]
  },
  {
   "cell_type": "markdown",
   "metadata": {},
   "source": [
    "### II. Introduction and Inspiration\n",
    "- Strokes are an important preventable cause of death and disability on over the world. Nearly 800,000 people in the United States suffer from a stroke each year, with about three in four being first-time strokes. Strokes are also the leading cause of long-term disability and the leading preventable cause of disability. Especially, Vietnam experiences around 200,000 cases of stroke annually, and similar to other chronic diseases, this number is on an upward trend.  \n",
    "- \"Con số này thật đáng báo động, vì nhóm người trẻ tuổi là lực lượng lao động chính của mỗi gia đình và xã hội\"- Thứ trưởng Bộ Y tế nhấn mạnh. \n",
    "- In this project, we focus on researching the relationships between strokes and factors such as genders, age, as well as medical history, including high blood pressure, smoking, and others.\n",
    "- Some questions about stroke: What causes a stroke?, Is it possible to have a stroke and not realize it?, ..."
   ]
  }
 ],
 "metadata": {
  "language_info": {
   "name": "python"
  }
 },
 "nbformat": 4,
 "nbformat_minor": 5
}
