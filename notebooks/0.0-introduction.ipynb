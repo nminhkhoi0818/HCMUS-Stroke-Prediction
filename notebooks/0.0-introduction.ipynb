{
 "cells": [
  {
   "cell_type": "markdown",
   "metadata": {},
   "source": [
    "## Workflow stages"
   ]
  },
  {
   "cell_type": "markdown",
   "metadata": {},
   "source": [
    "Generic workflow stages, however there are use cases with exceptions.\n",
    "1. Overview: \n",
    "    - Project title.\n",
    "    - What are the goals of the project (question or problem definition)?\n",
    "    - What is(are) dataset(s) ?\n",
    "    - Describe your team members.\n",
    "2. Data overview\n",
    "    - What is the source of data? Public? Crawled?\n",
    "    - What is the size of data?\n",
    "    - Brief introduction of data? What is the mean of each data properties?\n",
    "3. Data preparation and cleaning\n",
    "    - Acquire training and testing data.\n",
    "    - Wrangle, prepare, cleanse the data.\n",
    "    - Missing value treatment.\n",
    "    - Outlier detection and treatment.\n",
    "    - Feature engineering.\n",
    "4. Exploratory data analysis: Analyze, identify patterns, and explore the data.\n",
    "    - Univariate analysis.\n",
    "    - Bivariate analysis.\n",
    "    - Multivariate analysis.\n",
    "5. Final report and presentation\n",
    "    - Key findings.\n",
    "    - What are limitations of the analysis?\n",
    "    - Propose recommendations for the next steps.\n",
    "6. References\n",
    "    - Listing research papers or articles in reference section.\n"
   ]
  }
 ],
 "metadata": {
  "language_info": {
   "name": "python"
  }
 },
 "nbformat": 4,
 "nbformat_minor": 5
}
