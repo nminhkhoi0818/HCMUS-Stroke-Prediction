{
 "cells": [
  {
   "cell_type": "markdown",
   "metadata": {},
   "source": [
    "## **_01. What difficulties have you encountered?_**"
   ]
  },
  {
   "cell_type": "markdown",
   "metadata": {},
   "source": [
    "- **Nguyen Minh Khoi:** Choosing a suitable dataset and formulating meaningful questions for this project present the greatest challenges for me. While it’s easy to select questions and analyze them, I aim to devise questions that are insightful and provide us with substantial knowledge about strokes."
   ]
  },
  {
   "cell_type": "markdown",
   "metadata": {},
   "source": [
    "- **Nguyen Huy Thanh:** In the field of healthcare, there are many special cases that can occur, making the population size very large and sampling more challenging. In this dataset, the author has attempted to collect as many samples as possible, but it seems that there are still many missing cases. Additionally, the \"smoking status\" column contains a lot of missing data and values that are labeled as unknown, which makes this column prone to bias. Furthermore, the disproportionate ratio between the number of stroke and non-stroke samples makes the analysis more difficult."
   ]
  },
  {
   "cell_type": "markdown",
   "metadata": {},
   "source": [
    "## **_02. What have you learned?_**"
   ]
  },
  {
   "cell_type": "markdown",
   "metadata": {},
   "source": [
    "- **Nguyen Minh Khoi:** P4DS is an elective subject for me, but I believe that through this course and its projects, I will gain a wealth of knowledge. This includes learning how to select an appropriate dataset, preprocess it, and apply various techniques to answer meaningful questions. Furthermore, I anticipate that this experience will also teach me how to collaborate effectively with my teammates."
   ]
  },
  {
   "cell_type": "markdown",
   "metadata": {},
   "source": [
    "- **Nguyen Huy Thanh:** Stroke is one of the challenging issues in the field of healthcare that has persisted for a long time. Through this final project, I have gained more knowledge about the risk of stroke and increased awareness of the dangers of stroke. Additionally, in this project, I have learned more about the data science processes, data preprocessing techniques prior to analysis, and how to effectively communicate data through visualizations to provide a comprehensive and easily understandable overview. Finally, I have also explored various models that are widely applied in the current context."
   ]
  },
  {
   "cell_type": "markdown",
   "metadata": {},
   "source": [
    "## **_03. If you had more time, what would you do?_**"
   ]
  },
  {
   "cell_type": "markdown",
   "metadata": {},
   "source": [
    "- Identify additional questions that are meaningful and have practical value.\n",
    "- Improve the model to achieve higher precision.\n",
    "- Deploy this project on a website."
   ]
  },
  {
   "cell_type": "markdown",
   "metadata": {},
   "source": [
    "## **References**"
   ]
  },
  {
   "cell_type": "markdown",
   "metadata": {},
   "source": [
    "- https://www.kaggle.com/code/bhuvanchennoju/data-storytelling-auc-focus-on-strokes  \n",
    "- https://www.kaggle.com/code/tanmay111999/stroke-prediction-effect-of-data-leakage-smote  \n",
    "- https://www.cdc.gov  \n",
    "- https://tytphuong3q6.medinet.gov.vn/  \n",
    "- https://moh.gov.vn/tin-noi-bat/-/asset_publisher/3Yst7YhbkA5j/contentmoi-nam-viet-nam-co-khoang-200-000-ca-ot-quy-nhieu-nguoi-tre-tuoi-mac-benh-nguy-hiem-nay\n"
   ]
  }
 ],
 "metadata": {
  "kernelspec": {
   "display_name": "Python 3",
   "language": "python",
   "name": "python3"
  },
  "language_info": {
   "codemirror_mode": {
    "name": "ipython",
    "version": 3
   },
   "file_extension": ".py",
   "mimetype": "text/x-python",
   "name": "python",
   "nbconvert_exporter": "python",
   "pygments_lexer": "ipython3",
   "version": "3.11.7"
  }
 },
 "nbformat": 4,
 "nbformat_minor": 2
}
